{
 "cells": [
  {
   "cell_type": "markdown",
   "metadata": {},
   "source": [
    "# Sequence-to-Sequence G2P toolkit"
   ]
  },
  {
   "cell_type": "code",
   "execution_count": null,
   "metadata": {
    "collapsed": false,
    "scrolled": false
   },
   "outputs": [
    {
     "name": "stdout",
     "output_type": "stream",
     "text": [
      "Creating 2 layers of 512 units.\n",
      "Reading model parameters from g2p-seq2seq-cmudict\n",
      "> "
     ]
    }
   ],
   "source": [
    "!g2p-seq2seq --interactive --model g2p-seq2seq-cmudict"
   ]
  },
  {
   "cell_type": "code",
   "execution_count": 1,
   "metadata": {
    "collapsed": false
   },
   "outputs": [
    {
     "name": "stdout",
     "output_type": "stream",
     "text": [
      "Creating 2 layers of 512 units.\n",
      "Reading model parameters from g2p-seq2seq-cmudict\n",
      "i AY\n",
      "am EY EH M\n",
      "in IH N\n",
      "taiwan T AY W AA N\n",
      "at AE T\n",
      "taipei T AY P EY\n",
      "tech T EH K\n"
     ]
    }
   ],
   "source": [
    "# To generate pronunciations for an English word list with a trained model, run\n",
    "!g2p-seq2seq --decode your_wordlist --model g2p-seq2seq-cmudict"
   ]
  },
  {
   "cell_type": "code",
   "execution_count": null,
   "metadata": {
    "collapsed": true
   },
   "outputs": [],
   "source": []
  }
 ],
 "metadata": {
  "anaconda-cloud": {},
  "kernelspec": {
   "display_name": "Python [conda env:nlp]",
   "language": "python",
   "name": "conda-env-nlp-py"
  },
  "language_info": {
   "codemirror_mode": {
    "name": "ipython",
    "version": 3
   },
   "file_extension": ".py",
   "mimetype": "text/x-python",
   "name": "python",
   "nbconvert_exporter": "python",
   "pygments_lexer": "ipython3",
   "version": "3.5.2"
  }
 },
 "nbformat": 4,
 "nbformat_minor": 1
}
